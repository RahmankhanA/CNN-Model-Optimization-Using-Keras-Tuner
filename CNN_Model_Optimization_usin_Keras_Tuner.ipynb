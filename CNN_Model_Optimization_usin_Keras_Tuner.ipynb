{
  "nbformat": 4,
  "nbformat_minor": 0,
  "metadata": {
    "colab": {
      "name": "CNN Model Optimization usin Keras Tuner.ipynb",
      "provenance": [],
      "private_outputs": true,
      "collapsed_sections": [],
      "toc_visible": true,
      "authorship_tag": "ABX9TyOfCBbYk8AdKFU4rHKZDgpb",
      "include_colab_link": true
    },
    "kernelspec": {
      "name": "python3",
      "display_name": "Python 3"
    },
    "accelerator": "GPU"
  },
  "cells": [
    {
      "cell_type": "markdown",
      "metadata": {
        "id": "view-in-github",
        "colab_type": "text"
      },
      "source": [
        "<a href=\"https://colab.research.google.com/github/RahmankhanA/CNN-Model-Optimization-Using-Keras-Tuner/blob/main/CNN_Model_Optimization_usin_Keras_Tuner.ipynb\" target=\"_parent\"><img src=\"https://colab.research.google.com/assets/colab-badge.svg\" alt=\"Open In Colab\"/></a>"
      ]
    },
    {
      "cell_type": "markdown",
      "metadata": {
        "id": "g6QgEdfLwbn4"
      },
      "source": [
        "# ***CNN Model Optimization usin Keras Tuner***"
      ]
    },
    {
      "cell_type": "code",
      "metadata": {
        "id": "j1Yxv-YzwLt2"
      },
      "source": [
        "!pip install keras-tuner"
      ],
      "execution_count": null,
      "outputs": []
    },
    {
      "cell_type": "code",
      "metadata": {
        "id": "vnygqSDKwom_"
      },
      "source": [
        "import tensorflow as tf\n",
        "from tensorflow import keras\n",
        "import numpy as np\n"
      ],
      "execution_count": null,
      "outputs": []
    },
    {
      "cell_type": "code",
      "metadata": {
        "id": "x5fKhtrBw8RY"
      },
      "source": [
        "print(tf.__version__)"
      ],
      "execution_count": null,
      "outputs": []
    },
    {
      "cell_type": "code",
      "metadata": {
        "id": "QwxQSaiWxL6d"
      },
      "source": [
        "fashion_mnist=keras.datasets.fashion_mnist"
      ],
      "execution_count": null,
      "outputs": []
    },
    {
      "cell_type": "code",
      "metadata": {
        "id": "6pJUn844x8pd"
      },
      "source": [
        "(train_image, train_label),(test_image,test_label)=fashion_mnist.load_data()"
      ],
      "execution_count": null,
      "outputs": []
    },
    {
      "cell_type": "code",
      "metadata": {
        "id": "DTm_Zn_8ySsw"
      },
      "source": [
        "train_image=train_image/255.0\n",
        "test_image=test_image/255.0"
      ],
      "execution_count": null,
      "outputs": []
    },
    {
      "cell_type": "code",
      "metadata": {
        "id": "6pmw16Ecynad"
      },
      "source": [
        "train_image[9].shape\n"
      ],
      "execution_count": null,
      "outputs": []
    },
    {
      "cell_type": "code",
      "metadata": {
        "id": "s80Dvph5ytKg"
      },
      "source": [
        "train_image=train_image.reshape(len(train_image),28,28,1)\n",
        "test_image=test_image.reshape(len(test_image),28,28,1)"
      ],
      "execution_count": null,
      "outputs": []
    },
    {
      "cell_type": "code",
      "metadata": {
        "id": "mpGhMtIGzQaw"
      },
      "source": [
        "train_image[9].shape"
      ],
      "execution_count": null,
      "outputs": []
    },
    {
      "cell_type": "code",
      "metadata": {
        "id": "tRL9gforzXE9"
      },
      "source": [
        "def build_model(hp):\n",
        "  model= keras.Sequential([\n",
        "          tf.keras.layers.Conv2D(\n",
        "              filters=hp.Int('conv_1_filter',min_value=64, max_value=128, step=16),\n",
        "              kernel_size=hp.Choice('conv_1_kernel', values=[3,5]),\n",
        "              activation='relu',\n",
        "              input_shape=(28, 28, 1)\n",
        "          ),  \n",
        "          tf.keras.layers.Conv2D(\n",
        "              filters=hp.Int('conv_2_filter',min_value=32, max_value=64, step=16),\n",
        "              kernel_size=hp.Choice('conv_2_kernel', values=[3,5]),\n",
        "              activation='relu',\n",
        "             \n",
        "          ),   \n",
        "\n",
        "          tf.keras.layers.Flatten(),   \n",
        "          tf.keras.layers.Dense(\n",
        "              units=hp.Int('dense_1_units',min_value=32, max_value=128, step=16),\n",
        "              activation='relu',\n",
        "          ),\n",
        "          tf.keras.layers.Dense(10, activation='softmax')\n",
        "\n",
        "\n",
        "\n",
        "  ])\n",
        "  model.compile(optimizer=keras.optimizers.Adam(hp.Choice('learning_rate', values=[1e-2, 1e-3])),\n",
        "              loss='sparse_categorical_crossentropy',\n",
        "              metrics=['accuracy']\n",
        "              )\n",
        "\n",
        "  return model\n"
      ],
      "execution_count": null,
      "outputs": []
    },
    {
      "cell_type": "code",
      "metadata": {
        "id": "mDxSsiOE443-"
      },
      "source": [
        "from kerastuner import RandomSearch\n",
        "from kerastuner.engine.hyperparameters import HyperParameters"
      ],
      "execution_count": null,
      "outputs": []
    },
    {
      "cell_type": "code",
      "metadata": {
        "id": "P5hI_Axe5I4Z"
      },
      "source": [
        "tuner_search=RandomSearch(build_model,\n",
        "                          objective='val_accuracy', \n",
        "                          max_trials=5, directory='output', \n",
        "                          project_name='Mnist Fashion')"
      ],
      "execution_count": null,
      "outputs": []
    },
    {
      "cell_type": "code",
      "metadata": {
        "id": "mH1D4C4KLCiZ"
      },
      "source": [
        "tuner_search.search(train_image,train_label, epochs=4, validation_split=0.1)"
      ],
      "execution_count": null,
      "outputs": []
    },
    {
      "cell_type": "code",
      "metadata": {
        "id": "8PjSCBMuQaE-"
      },
      "source": [
        "model=tuner_search.get_best_models(num_models=1)[0]"
      ],
      "execution_count": null,
      "outputs": []
    },
    {
      "cell_type": "code",
      "metadata": {
        "id": "dJJDWhEFRr3A"
      },
      "source": [
        "model.summary()"
      ],
      "execution_count": null,
      "outputs": []
    },
    {
      "cell_type": "code",
      "metadata": {
        "id": "nD10KGOKRwB9"
      },
      "source": [
        "model.fit(train_image,train_label, epochs=15, validation_split=0.1, initial_epoch=4)"
      ],
      "execution_count": null,
      "outputs": []
    },
    {
      "cell_type": "code",
      "metadata": {
        "id": "DwEpKe9BSLGd"
      },
      "source": [
        ""
      ],
      "execution_count": null,
      "outputs": []
    }
  ]
}